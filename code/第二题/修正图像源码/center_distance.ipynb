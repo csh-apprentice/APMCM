{
 "cells": [
  {
   "cell_type": "code",
   "execution_count": 183,
   "metadata": {},
   "outputs": [],
   "source": [
    "import numpy as np # linear algebra\n",
    "import pandas as pd # data processing, CSV file I/O (e.g. pd.read_csv)\n",
    "import matplotlib.pyplot as plt\n",
    "import seaborn as sns\n",
    "import os"
   ]
  },
  {
   "cell_type": "code",
   "execution_count": 184,
   "metadata": {},
   "outputs": [
    {
     "name": "stdout",
     "output_type": "stream",
     "text": [
      "(316, 2)\n"
     ]
    }
   ],
   "source": [
    "df = pd.read_excel('./0.xlsx')\n",
    "odf =  pd.read_csv(\"./c2.txt\",header=None)\n",
    "# df = pd.read_csv(r\"e:\\text01.txt\",sep=',' ,encoding='utf-8')\n",
    "print(df.shape)\n"
   ]
  },
  {
   "cell_type": "code",
   "execution_count": 185,
   "metadata": {},
   "outputs": [
    {
     "name": "stdout",
     "output_type": "stream",
     "text": [
      "(1, 392)\n"
     ]
    }
   ],
   "source": [
    "print(odf.shape)"
   ]
  },
  {
   "cell_type": "code",
   "execution_count": 186,
   "metadata": {},
   "outputs": [],
   "source": [
    "#parameter UPPER BOUND OF NUMBERS\n",
    "L  = 300"
   ]
  },
  {
   "cell_type": "code",
   "execution_count": 187,
   "metadata": {},
   "outputs": [],
   "source": [
    "# df = pd.DataFrame()\n",
    "df.insert(0, 'X', 0)#column 0\n",
    "df.insert(1, 'Y', 0)#column 1\n",
    "df.insert(2, 'Xd', 0)#column 2\n",
    "df.insert(3, 'Yd', 0)#column 3\n",
    "df.insert(4, '--', 0)#column 3\n",
    "df.insert(5, 'd', 0)#column 3\n"
   ]
  },
  {
   "cell_type": "code",
   "execution_count": 188,
   "metadata": {},
   "outputs": [],
   "source": [
    "#奇数列记为x\n",
    "j = 0\n",
    "for i in range(odf.shape[1]):\n",
    "    if(i%2):\n",
    "\n",
    "        df.iloc[j,0] = odf.iloc[0,i]\n",
    "        j = j + 1\n",
    "    else:\n",
    "\n",
    "        df.iloc[j,1] = odf.iloc[0,i]\n",
    "        \n",
    "# print(df)"
   ]
  },
  {
   "cell_type": "code",
   "execution_count": 189,
   "metadata": {},
   "outputs": [],
   "source": [
    "for i in range (L-1):\n",
    "    df.iloc[i,5] = np.power(np.power(df.iloc[i,0] -df.iloc[i+1,0],2)+np.power(df.iloc[i,1] -df.iloc[i+1,1],2),0.5)\n",
    "    "
   ]
  },
  {
   "cell_type": "code",
   "execution_count": 190,
   "metadata": {},
   "outputs": [],
   "source": [
    "# df.head(30)"
   ]
  },
  {
   "cell_type": "code",
   "execution_count": 191,
   "metadata": {},
   "outputs": [
    {
     "name": "stdout",
     "output_type": "stream",
     "text": [
      "average  56.93151307037074\n"
     ]
    }
   ],
   "source": [
    "sum = 0\n",
    "count = 0\n",
    "for i in range(100):\n",
    "    if (df.iloc[i,5]>50)and(df.iloc[i,5]<60):\n",
    "        sum +=df.iloc[i,5]\n",
    "        count = count + 1\n",
    "average  = sum/(count + 1)\n",
    "print (\"average \",average)"
   ]
  }
 ],
 "metadata": {
  "interpreter": {
   "hash": "e3cdbe8a4cbcf48cbe52297e7f23bd3a3b09753baa17fe0d0cb997ee753577a1"
  },
  "kernelspec": {
   "display_name": "Python 3.8.8 64-bit ('base': conda)",
   "language": "python",
   "name": "python3"
  },
  "language_info": {
   "codemirror_mode": {
    "name": "ipython",
    "version": 3
   },
   "file_extension": ".py",
   "mimetype": "text/x-python",
   "name": "python",
   "nbconvert_exporter": "python",
   "pygments_lexer": "ipython3",
   "version": "3.8.8"
  },
  "orig_nbformat": 4
 },
 "nbformat": 4,
 "nbformat_minor": 2
}
