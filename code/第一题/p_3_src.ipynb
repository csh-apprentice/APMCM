{
 "cells": [
  {
   "cell_type": "markdown",
   "metadata": {},
   "source": [
    "# 图像路径"
   ]
  },
  {
   "cell_type": "code",
   "execution_count": 1,
   "metadata": {},
   "outputs": [],
   "source": [
    "import numpy as np\n",
    "import cv2 as cv\n",
    "from matplotlib import pyplot as plt\n",
    "import my_image_processor as mi\n",
    "\n",
    "#t关于问题一的所有图片路径\n",
    "    #原图像路径\n",
    "image_path_1='./Annex 1/Pic1_1.bmp'\n",
    "image_path_2='./Annex 1/Pic1_2.bmp'\n",
    "image_path_3='./Annex 1/Pic1_3.bmp'\n",
    "    #新图像路径\n",
    "image_new_path_1='./Annex 1/new_image/Pic1_1.png'\n",
    "image_new_path_2='./Annex 1/new_image/Pic1_2.png'\n",
    "image_new_path_3='./Annex 1/new_image/Pic1_3.png'\n",
    "    #边界图像路径\n",
    "image_bound_path_1='./Annex 1/boundary/pic1_1.png'\n",
    "image_bound_path_2='./Annex 1/boundary/pic1_2.png'\n",
    "image_bound_path_3='./Annex 1/boundary/pic1_3.png'\n",
    "\n",
    "    #热图路径\n",
    "heat_path_1_X=\"./Annex 1/图像/Pic_1_1/X-Trans-Image\"\n",
    "heat_path_1_Y=\"./Annex 1/图像/Pic_1_1/Y-Trans-Image\"\n",
    "heat_path_1=[heat_path_1_X,heat_path_1_Y]\n",
    "heat_path_2_X=\"./Annex 1/图像/Pic_1_2/X-Trans-Image\"\n",
    "heat_path_2_Y=\"./Annex 1/图像/Pic_1_2/Y-Trans-Image\"\n",
    "heat_path_2=[heat_path_2_X,heat_path_2_Y]\n",
    "heat_path_3_X=\"./Annex 1/图像/Pic_1_3/X-Trans-Image\"\n",
    "heat_path_3_Y=\"./Annex 1/图像/Pic_1_3/Y-Trans-Image\"\n",
    "heat_path_3=[heat_path_3_X,heat_path_3_Y]\n",
    "#图片处理\n",
    "\n",
    "#excel path\n",
    "path_1_1='pic_1.xlsx'\n",
    "path_2_1='pic_2_1.xlsx'\n",
    "path_2_2='pic_2_2.xlsx'\n",
    "path_2_3='pic_2_3.xlsx'\n",
    "path_2_4='pic_2_4.xlsx'\n",
    "path_2_5='pic_2_5.xlsx'\n",
    "path_2=[path_2_1,path_2_2,path_2_3,path_2_4,path_2_5]\n",
    "\n",
    "path_3_1='pic_3_1.xlsx'\n",
    "path_3_2='pic_3_2.xlsx'\n",
    "path_3=[path_3_1,path_3_2]\n",
    "\n",
    "#page_list\n",
    "page_2=['page_1','page_2','page_3','page_4','page_5']\n",
    "page_3=['page_1','page_2']"
   ]
  },
  {
   "cell_type": "markdown",
   "metadata": {},
   "source": [
    "# 初始化多边形选择法"
   ]
  },
  {
   "cell_type": "code",
   "execution_count": 2,
   "metadata": {},
   "outputs": [],
   "source": [
    "polygon_index=[[-1,True],[-2,False]]"
   ]
  },
  {
   "cell_type": "markdown",
   "metadata": {},
   "source": [
    "# 第三个图的多边形拟合并输出像素级别周长"
   ]
  },
  {
   "cell_type": "code",
   "execution_count": 3,
   "metadata": {},
   "outputs": [],
   "source": [
    "########################图二#########################\n",
    "p3=mi.image(image_new_path_2,[],254)\n",
    "\n",
    "\n",
    "#读取图像轮廓线\n",
    "#计算sobel算子\n",
    "p3.set_sobel()\n",
    "#Devernary_smooth （亚像素级别处理）\n",
    "p3.Devernary_smooth(heat_path_3)\n",
    "\n",
    "p3.get_origin_contour_v2(image_bound_path_3,polygon_index)"
   ]
  },
  {
   "cell_type": "markdown",
   "metadata": {},
   "source": [
    "# 写入数据"
   ]
  },
  {
   "cell_type": "code",
   "execution_count": null,
   "metadata": {},
   "outputs": [],
   "source": [
    "p3.write_in_excel_v2(path_3,page_3)"
   ]
  }
 ],
 "metadata": {
  "interpreter": {
   "hash": "80863eb9c63e66df68dbac8d5e691aa5d430d938d30f36a787e63a6759f4343d"
  },
  "kernelspec": {
   "display_name": "Python 3.9.5 64-bit",
   "language": "python",
   "name": "python3"
  },
  "language_info": {
   "codemirror_mode": {
    "name": "ipython",
    "version": 3
   },
   "file_extension": ".py",
   "mimetype": "text/x-python",
   "name": "python",
   "nbconvert_exporter": "python",
   "pygments_lexer": "ipython3",
   "version": "3.9.5"
  },
  "orig_nbformat": 4
 },
 "nbformat": 4,
 "nbformat_minor": 2
}
